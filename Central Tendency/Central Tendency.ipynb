{
 "cells": [
  {
   "cell_type": "markdown",
   "id": "1dfb1c1f",
   "metadata": {},
   "source": [
    "#QuanQual\n"
   ]
  },
  {
   "cell_type": "code",
   "execution_count": null,
   "id": "45a39f2d",
   "metadata": {},
   "outputs": [],
   "source": [
    "import pandas as pd"
   ]
  },
  {
   "cell_type": "code",
   "execution_count": null,
   "id": "41642046",
   "metadata": {},
   "outputs": [],
   "source": [
    "dataset=pd.read_csv(\"Placement.csv\")"
   ]
  },
  {
   "cell_type": "code",
   "execution_count": null,
   "id": "176f23a7",
   "metadata": {},
   "outputs": [],
   "source": [
    "dataset"
   ]
  },
  {
   "cell_type": "code",
   "execution_count": null,
   "id": "e94eae7f",
   "metadata": {},
   "outputs": [],
   "source": [
    "dataset.columns"
   ]
  },
  {
   "cell_type": "code",
   "execution_count": null,
   "id": "4271eab3",
   "metadata": {},
   "outputs": [],
   "source": [
    "dataset.info()"
   ]
  },
  {
   "cell_type": "code",
   "execution_count": null,
   "id": "ae767305",
   "metadata": {},
   "outputs": [],
   "source": [
    "dir(dataset)"
   ]
  },
  {
   "cell_type": "code",
   "execution_count": null,
   "id": "98530453",
   "metadata": {},
   "outputs": [],
   "source": [
    "dataset.dtypes"
   ]
  },
  {
   "cell_type": "code",
   "execution_count": null,
   "id": "1b0ad023",
   "metadata": {},
   "outputs": [],
   "source": [
    "dataset[\"gender\"].dtypes"
   ]
  },
  {
   "cell_type": "code",
   "execution_count": null,
   "id": "54d2314e",
   "metadata": {},
   "outputs": [],
   "source": [
    "for columnName in dataset.columns:\n",
    "    print(columnName)\n"
   ]
  },
  {
   "cell_type": "code",
   "execution_count": null,
   "id": "e928fb4d",
   "metadata": {},
   "outputs": [],
   "source": [
    "if(dataset[\"gender\"].dtype=='O'):\n",
    "    print(\"Qual\")\n",
    "else:\n",
    "    print(\"Quan\")"
   ]
  },
  {
   "cell_type": "code",
   "execution_count": null,
   "id": "d74ac011",
   "metadata": {},
   "outputs": [],
   "source": [
    "qual=[]\n",
    "quan=[]\n",
    "for columnName in dataset.columns:\n",
    "    #print(columnName)\n",
    "    if(dataset[columnName].dtype=='O'):\n",
    "        #print(\"Qual\")\n",
    "        qual.append(columnName)\n",
    "    else:\n",
    "        #print(\"Quan\")       \n",
    "        quan.append(columnName)\n",
    "        "
   ]
  },
  {
   "cell_type": "code",
   "execution_count": null,
   "id": "635ced0d",
   "metadata": {},
   "outputs": [],
   "source": [
    "quan"
   ]
  },
  {
   "cell_type": "code",
   "execution_count": null,
   "id": "0902fad1",
   "metadata": {},
   "outputs": [],
   "source": [
    "qual"
   ]
  },
  {
   "cell_type": "code",
   "execution_count": null,
   "id": "d3e474f5",
   "metadata": {},
   "outputs": [],
   "source": [
    "def quanQual(dataset):\n",
    "    quan=[]\n",
    "    qual=[]\n",
    "    for columnName in dataset.columns:\n",
    "        #print(columnName)\n",
    "        if(dataset[columnName].dtype=='O'):\n",
    "            #print(\"qual\")\n",
    "            qual.append(columnName)\n",
    "        else:\n",
    "            #print(\"quan\")\n",
    "            quan.append(columnName)\n",
    "    return quan,qual\n",
    "\n",
    "\n",
    "    "
   ]
  },
  {
   "cell_type": "code",
   "execution_count": null,
   "id": "6df504aa",
   "metadata": {},
   "outputs": [],
   "source": [
    "quanQual(dataset)"
   ]
  },
  {
   "cell_type": "code",
   "execution_count": null,
   "id": "9a7223ba",
   "metadata": {},
   "outputs": [],
   "source": [
    "quan\n"
   ]
  },
  {
   "cell_type": "code",
   "execution_count": null,
   "id": "6fbdb467",
   "metadata": {},
   "outputs": [],
   "source": [
    "qual\n"
   ]
  },
  {
   "cell_type": "code",
   "execution_count": null,
   "id": "3ed043da",
   "metadata": {},
   "outputs": [],
   "source": [
    "quan,qual=quanQual(dataset)"
   ]
  },
  {
   "cell_type": "code",
   "execution_count": null,
   "id": "3c43ef6c",
   "metadata": {},
   "outputs": [],
   "source": [
    "quan"
   ]
  },
  {
   "cell_type": "code",
   "execution_count": null,
   "id": "989a7f80",
   "metadata": {},
   "outputs": [],
   "source": [
    "qual"
   ]
  },
  {
   "cell_type": "markdown",
   "id": "7d7f45d3",
   "metadata": {},
   "source": [
    "Central Tendency\n",
    "\n"
   ]
  },
  {
   "cell_type": "code",
   "execution_count": null,
   "id": "8dd4aced",
   "metadata": {},
   "outputs": [],
   "source": [
    "dataset[\"ssc_p\"].mean()"
   ]
  },
  {
   "cell_type": "code",
   "execution_count": null,
   "id": "93d9ebc0",
   "metadata": {},
   "outputs": [],
   "source": [
    "dataset[\"ssc_p\"].mode()\n"
   ]
  },
  {
   "cell_type": "code",
   "execution_count": null,
   "id": "c52ba470",
   "metadata": {},
   "outputs": [],
   "source": [
    "dataset[\"ssc_p\"].median()"
   ]
  },
  {
   "cell_type": "code",
   "execution_count": null,
   "id": "f4844b0f",
   "metadata": {},
   "outputs": [],
   "source": [
    "dataset.describe()"
   ]
  },
  {
   "cell_type": "code",
   "execution_count": null,
   "id": "5755e5c9",
   "metadata": {},
   "outputs": [],
   "source": [
    "descriptive=pd.DataFrame()"
   ]
  },
  {
   "cell_type": "code",
   "execution_count": null,
   "id": "7349a526",
   "metadata": {},
   "outputs": [],
   "source": [
    "descriptive=pd.DataFrame(index=[\"Mean\",\"Mode\",\"Median\"],columns=quan)"
   ]
  },
  {
   "cell_type": "code",
   "execution_count": null,
   "id": "57aa766b",
   "metadata": {},
   "outputs": [],
   "source": [
    "descriptive"
   ]
  },
  {
   "cell_type": "code",
   "execution_count": null,
   "id": "3a0ef7d3",
   "metadata": {},
   "outputs": [],
   "source": [
    "descriptive[\"ssc_p\"][\"Mean\"]=0"
   ]
  },
  {
   "cell_type": "code",
   "execution_count": null,
   "id": "2481da7c",
   "metadata": {},
   "outputs": [],
   "source": [
    "descriptive"
   ]
  },
  {
   "cell_type": "code",
   "execution_count": null,
   "id": "964eab5a",
   "metadata": {},
   "outputs": [],
   "source": [
    "descriptive=pd.DataFrame(index=[\"Mean\",\"Mode\",\"Median\"],columns=quan)\n",
    "for columnName in quan:\n",
    "    descriptive[columnName][\"Mean\"]=dataset[columnName].mean()"
   ]
  },
  {
   "cell_type": "code",
   "execution_count": null,
   "id": "51ad86f6",
   "metadata": {},
   "outputs": [],
   "source": [
    "descriptive"
   ]
  },
  {
   "cell_type": "code",
   "execution_count": null,
   "id": "674bbc8f",
   "metadata": {},
   "outputs": [],
   "source": [
    "descriptive=pd.DataFrame(index=[\"Mean\",\"Mode\",\"Median\"],columns=quan)\n",
    "for columnName in quan:\n",
    "    descriptive[columnName][\"Mean\"]=dataset[columnName].mean()\n",
    "    descriptive[columnName][\"Mode\"]=dataset[columnName].mode()[0]\n",
    "    descriptive[columnName][\"Median\"]=dataset[columnName].median()\n",
    "    "
   ]
  },
  {
   "cell_type": "code",
   "execution_count": null,
   "id": "f05fd12e",
   "metadata": {},
   "outputs": [],
   "source": [
    "descriptive"
   ]
  },
  {
   "cell_type": "markdown",
   "id": "ec94f7c0",
   "metadata": {},
   "source": [
    "#Percentile"
   ]
  },
  {
   "cell_type": "code",
   "execution_count": null,
   "id": "ff0a173a",
   "metadata": {},
   "outputs": [],
   "source": [
    "import numpy as np"
   ]
  },
  {
   "cell_type": "code",
   "execution_count": null,
   "id": "a3fe6d6c",
   "metadata": {},
   "outputs": [],
   "source": [
    "np.percentile(dataset['ssc_p'],50)"
   ]
  },
  {
   "cell_type": "code",
   "execution_count": null,
   "id": "1e075959",
   "metadata": {},
   "outputs": [],
   "source": [
    "dataset.describe()"
   ]
  },
  {
   "cell_type": "code",
   "execution_count": null,
   "id": "7acf33b6",
   "metadata": {},
   "outputs": [],
   "source": [
    "descriptive=pd.DataFrame(index=[\"Mean\",\"Median\",\"Mode\",\"Q1:25%\",\"Q2:50%\",\n",
    "                               \"Q3:75%\",\"99%\",\"Q4:100%\"],columns=quan)\n",
    "for columnName in quan:\n",
    "    descriptive[columnName][\"Mean\"]=dataset[columnName].mean()\n",
    "    descriptive[columnName][\"Median\"]=dataset[columnName].median()\n",
    "    descriptive[columnName][\"Mode\"]=dataset[columnName].mode()[0]\n",
    "    descriptive[columnName][\"Q1:25%\"]=dataset.describe()[columnName][\"25%\"]\n",
    "    descriptive[columnName][\"Q2:50%\"]=dataset.describe()[columnName][\"50%\"]\n",
    "    descriptive[columnName][\"Q3:75%\"]=dataset.describe()[columnName][\"75%\"]\n",
    "    descriptive[columnName][\"99%\"]=np.percentile(dataset[columnName],99)\n",
    "    descriptive[columnName][\"Q4:100%\"]=dataset.describe()[columnName][\"max\"]\n",
    "    \n",
    "    \n",
    "    "
   ]
  },
  {
   "cell_type": "code",
   "execution_count": null,
   "id": "e0f7fdd7",
   "metadata": {},
   "outputs": [],
   "source": [
    "descriptive"
   ]
  },
  {
   "cell_type": "markdown",
   "id": "3340b7e0",
   "metadata": {},
   "source": [
    "#IQR"
   ]
  },
  {
   "cell_type": "code",
   "execution_count": null,
   "id": "44d377ad",
   "metadata": {},
   "outputs": [],
   "source": [
    "descriptive=pd.DataFrame(index=[\"Mean\",\"Mode\",\"Median\",\"Q1:25%\",\"Q2:50%\",\n",
    "                               \"Q3:75%\",\"99%\",\"Q4:100%\",\"IQR\",\"1.5Rule\",\"Lesser\",\"Greater\",\"Min\",\"Max\"],columns=quan)\n",
    "for columnName in quan:\n",
    "    descriptive[columnName][\"Mean\"]=dataset[columnName].mean()\n",
    "    descriptive[columnName][\"Median\"]=dataset[columnName].median()\n",
    "    descriptive[columnName][\"Mode\"]=dataset[columnName].mode()[0]\n",
    "    descriptive[columnName][\"Q1:25%\"]=dataset.describe()[columnName][\"25%\"]\n",
    "    descriptive[columnName][\"Q2:50%\"]=dataset.describe()[columnName][\"50%\"]\n",
    "    descriptive[columnName][\"Q3:75%\"]=dataset.describe()[columnName][\"75%\"]\n",
    "    descriptive[columnName][\"99%\"]=np.percentile(dataset[columnName],99)\n",
    "    descriptive[columnName][\"Q4:100%\"]=dataset.describe()[columnName][\"max\"]\n",
    "    descriptive[columnName][\"IQR\"]=descriptive[columnName][\"Q3:75%\"]-descriptive[columnName][\"Q1:25%\"]\n",
    "    descriptive[columnName][\"1.5Rule\"]=1.5*descriptive[columnName][\"IQR\"]\n",
    "    descriptive[columnName][\"Lesser\"]=descriptive[columnName][\"Q1:25%\"]-descriptive[columnName][\"1.5Rule\"]\n",
    "    descriptive[columnName][\"Greater\"]=descriptive[columnName][\"Q3:75%\"]+descriptive[columnName][\"1.5Rule\"]\n",
    "    descriptive[columnName][\"Min\"]=dataset[columnName].min()\n",
    "    descriptive[columnName][\"Max\"]=dataset[columnName].max()"
   ]
  },
  {
   "cell_type": "code",
   "execution_count": null,
   "id": "d104d873",
   "metadata": {},
   "outputs": [],
   "source": [
    "descriptive"
   ]
  },
  {
   "cell_type": "markdown",
   "id": "2ef4aac6",
   "metadata": {},
   "source": [
    "#Replace Outerlier"
   ]
  },
  {
   "cell_type": "code",
   "execution_count": null,
   "id": "8b3746e7",
   "metadata": {},
   "outputs": [],
   "source": [
    "lesser=[]\n",
    "greater=[]\n",
    "\n",
    "for columnName in quan:\n",
    "    if(descriptive[columnName][\"Min\"]<descriptive[columnName][\"Lesser\"]):\n",
    "        lesser.append(columnName)\n",
    "    if(descriptive[columnName][\"Max\"]>descriptive[columnName][\"Greater\"]):\n",
    "        greater.append(columnName)\n",
    "        \n",
    "    \n",
    "    \n",
    "        \n",
    "      \n",
    "    "
   ]
  },
  {
   "cell_type": "code",
   "execution_count": null,
   "id": "ee1015d3",
   "metadata": {},
   "outputs": [],
   "source": [
    "lesser"
   ]
  },
  {
   "cell_type": "code",
   "execution_count": null,
   "id": "0e49b71a",
   "metadata": {},
   "outputs": [],
   "source": [
    "greater"
   ]
  },
  {
   "cell_type": "code",
   "execution_count": null,
   "id": "1a687c70",
   "metadata": {},
   "outputs": [],
   "source": [
    "for column in lesser:\n",
    "    dataset[column][dataset[column]<descriptive[column][\"Lesser\"]]=descriptive[column][\"Lesser\"]\n",
    "for columName in greater:    \n",
    "    dataset[column][dataset[column]<descriptive[column][\"Greater\"]]=descriptive[column][\"Greater\"]"
   ]
  },
  {
   "cell_type": "code",
   "execution_count": null,
   "id": "e44b3eda",
   "metadata": {},
   "outputs": [],
   "source": [
    "descriptive=pd.DataFrame(index=[\"Mean\",\"Mode\",\"Median\",\"Q1:25%\",\"Q2:50%\",\n",
    "                               \"Q3:75%\",\"99%\",\"Q4:100%\",\"IQR\",\"1.5Rule\",\"Lesser\",\"Greater\",\"Min\",\"Max\"],columns=quan)\n",
    "for columnName in quan:\n",
    "    descriptive[columnName][\"Mean\"]=dataset[columnName].mean()\n",
    "    descriptive[columnName][\"Median\"]=dataset[columnName].median()\n",
    "    descriptive[columnName][\"Mode\"]=dataset[columnName].mode()[0]\n",
    "    descriptive[columnName][\"Q1:25%\"]=dataset.describe()[columnName][\"25%\"]\n",
    "    descriptive[columnName][\"Q2:50%\"]=dataset.describe()[columnName][\"50%\"]\n",
    "    descriptive[columnName][\"Q3:75%\"]=dataset.describe()[columnName][\"75%\"]\n",
    "    descriptive[columnName][\"99%\"]=np.percentile(dataset[columnName],99)\n",
    "    descriptive[columnName][\"Q4:100%\"]=dataset.describe()[columnName][\"max\"]\n",
    "    descriptive[columnName][\"IQR\"]=descriptive[columnName][\"Q3:75%\"]-descriptive[columnName][\"Q1:25%\"]\n",
    "    descriptive[columnName][\"1.5Rule\"]=1.5*descriptive[columnName][\"IQR\"]\n",
    "    descriptive[columnName][\"Lesser\"]=descriptive[columnName][\"Q1:25%\"]-descriptive[columnName][\"1.5Rule\"]\n",
    "    descriptive[columnName][\"Greater\"]=descriptive[columnName][\"Q3:75%\"]+descriptive[columnName][\"1.5Rule\"]\n",
    "    descriptive[columnName][\"Min\"]=dataset[columnName].min()\n",
    "    descriptive[columnName][\"Max\"]=dataset[columnName].max()"
   ]
  },
  {
   "cell_type": "code",
   "execution_count": null,
   "id": "ecff9359",
   "metadata": {},
   "outputs": [],
   "source": [
    "descriptive"
   ]
  },
  {
   "cell_type": "code",
   "execution_count": null,
   "id": "fa779d87",
   "metadata": {},
   "outputs": [],
   "source": [
    "def LesserGreater (dataset,index):\n",
    "    lesser=[]\n",
    "    greater=[]\n",
    "\n",
    "    for columnName in quan:\n",
    "        if(descriptive[columnName][\"Min\"]<descriptive[columnName][\"Lesser\"]):\n",
    "            lesser.append(columnName)\n",
    "        if(descriptive[columnName][\"Max\"]>descriptive[columnName][\"Greater\"]):\n",
    "            greater.append(columnName)\n",
    "            return LesserGreater\n",
    "\n",
    "    \n",
    "    \n",
    "        \n",
    "      \n",
    "    "
   ]
  },
  {
   "cell_type": "code",
   "execution_count": null,
   "id": "55d2fc86",
   "metadata": {},
   "outputs": [],
   "source": [
    "LesserGreater(dataset,\"Lesser\")"
   ]
  },
  {
   "cell_type": "code",
   "execution_count": null,
   "id": "8fdad31c",
   "metadata": {},
   "outputs": [],
   "source": [
    "lesser"
   ]
  },
  {
   "cell_type": "code",
   "execution_count": null,
   "id": "2fdb6fa3",
   "metadata": {},
   "outputs": [],
   "source": [
    "greater"
   ]
  },
  {
   "cell_type": "code",
   "execution_count": null,
   "id": "7631139f",
   "metadata": {},
   "outputs": [],
   "source": []
  },
  {
   "cell_type": "code",
   "execution_count": null,
   "id": "91c73715",
   "metadata": {},
   "outputs": [],
   "source": [
    "dataset[\"ssc_p\"].value_counts()"
   ]
  },
  {
   "cell_type": "code",
   "execution_count": null,
   "id": "d29558cb",
   "metadata": {},
   "outputs": [],
   "source": [
    "FreqTable=pd.DataFrame(columns=[\"Unique_Value\",\"Frequncy\",\"Relative_Frequncy\",\"Cumsum\"])"
   ]
  },
  {
   "cell_type": "code",
   "execution_count": null,
   "id": "7cdfd52d",
   "metadata": {},
   "outputs": [],
   "source": [
    "FreqTable"
   ]
  },
  {
   "cell_type": "code",
   "execution_count": null,
   "id": "7e093177",
   "metadata": {},
   "outputs": [],
   "source": [
    "FreqTable[\"Unique_Values\"]=dataset[\"ssc_p\"].value_counts().index\n",
    "FreqTable[\"Frequency\"]=dataset[\"ssc_p\"].value_counts().values\n",
    "FreqTable[\"Relative Frequency\"]=(FreqTable[\"Frequency\"]/103)\n",
    "FreqTable[\"Cusum\"]=FreqTable[\"Relative Frequency\"].cumsum()"
   ]
  },
  {
   "cell_type": "code",
   "execution_count": null,
   "id": "dcc0bf78",
   "metadata": {},
   "outputs": [],
   "source": [
    "def FreqTable (columName,dataset):\n",
    "    FreqTable=pd.DataFrame(columns=[\"Unique_Value\",\"Frequncy\",\"Relative_Frequncy\",\"Cumsum\"])\n",
    "    FreqTable[\"Unique_Value\"]=dataset[columName].value_counts().index\n",
    "    FreqTable[\"Frequncy\"]=dataset[columName].value_counts().values\n",
    "    FreqTable[\"Relative_Frequncy\"]=(FreqTable[\"Frequncy\"]/103)\n",
    "    FreqTable[\"Cumsum\"]=FreqTable[\"Relative_Frequncy\"].cumsum()\n",
    "    return FreqTable"
   ]
  },
  {
   "cell_type": "code",
   "execution_count": null,
   "id": "c704677a",
   "metadata": {},
   "outputs": [],
   "source": [
    "FreqTable(\"hsc_p\",dataset)"
   ]
  },
  {
   "cell_type": "code",
   "execution_count": null,
   "id": "945a4b34",
   "metadata": {},
   "outputs": [],
   "source": [
    "def Univariate(dataset,quan):\n",
    "    descriptive=pd.DataFrame(index=[\"Mean\",\"Mode\",\"Median\",\"Q1:25%\",\"Q2:50%\",\n",
    "                               \"Q3:75%\",\"99%\",\"Q4:100%\",\"IQR\",\"1.5Rule\",\"Lesser\",\"Greater\",\"Min\",\"Max\"],columns=quan)\n",
    "    for columnName in quan:\n",
    "        descriptive[columnName][\"Mean\"]=dataset[columnName].mean()\n",
    "        descriptive[columnName][\"Median\"]=dataset[columnName].median()\n",
    "        descriptive[columnName][\"Mode\"]=dataset[columnName].mode()[0]\n",
    "        descriptive[columnName][\"Q1:25%\"]=dataset.describe()[columnName][\"25%\"]\n",
    "        descriptive[columnName][\"Q2:50%\"]=dataset.describe()[columnName][\"50%\"]\n",
    "        descriptive[columnName][\"Q3:75%\"]=dataset.describe()[columnName][\"75%\"]\n",
    "        descriptive[columnName][\"99%\"]=np.percentile(dataset[columnName],99)\n",
    "        descriptive[columnName][\"Q4:100%\"]=dataset.describe()[columnName][\"max\"]\n",
    "        descriptive[columnName][\"IQR\"]=descriptive[columnName][\"Q3:75%\"]-descriptive[columnName][\"Q1:25%\"]\n",
    "        descriptive[columnName][\"1.5Rule\"]=1.5*descriptive[columnName][\"IQR\"]\n",
    "        descriptive[columnName][\"Lesser\"]=descriptive[columnName][\"Q1:25%\"]-descriptive[columnName][\"1.5Rule\"]\n",
    "        descriptive[columnName][\"Greater\"]=descriptive[columnName][\"Q3:75%\"]+descriptive[columnName][\"1.5Rule\"]\n",
    "        descriptive[columnName][\"Min\"]=dataset[columnName].min()\n",
    "        descriptive[columnName][\"Max\"]=dataset[columnName].max()\n",
    "    return descriptive"
   ]
  },
  {
   "cell_type": "code",
   "execution_count": null,
   "id": "6ce7967f",
   "metadata": {},
   "outputs": [],
   "source": [
    "Univariate(dataset,quan)\n"
   ]
  },
  {
   "cell_type": "code",
   "execution_count": null,
   "id": "74f58f26",
   "metadata": {},
   "outputs": [],
   "source": [
    "dir(dataset)"
   ]
  },
  {
   "cell_type": "code",
   "execution_count": null,
   "id": "1f76a9ff",
   "metadata": {},
   "outputs": [],
   "source": [
    "dataset[\"ssc_p\"].skew()"
   ]
  },
  {
   "cell_type": "code",
   "execution_count": null,
   "id": "b564114d",
   "metadata": {},
   "outputs": [],
   "source": [
    "dataset[\"ssc_p\"].kurtosis()"
   ]
  },
  {
   "cell_type": "code",
   "execution_count": null,
   "id": "511fd87b",
   "metadata": {},
   "outputs": [],
   "source": [
    "def Univariate(dataset,quan):\n",
    "    descriptive=pd.DataFrame(index=[\"Mean\",\"Mode\",\"Median\",\"Q1:25%\",\"Q2:50%\",\n",
    "                               \"Q3:75%\",\"99%\",\"Q4:100%\",\"IQR\",\"1.5Rule\",\"Lesser\",\"Greater\",\"Min\",\"Max\",\"skew\",\"kurtosis\",\"var\",\"std\"],columns=quan)\n",
    "    for columnName in quan:\n",
    "        descriptive[columnName][\"Mean\"]=dataset[columnName].mean()\n",
    "        descriptive[columnName][\"Median\"]=dataset[columnName].median()\n",
    "        descriptive[columnName][\"Mode\"]=dataset[columnName].mode()[0]\n",
    "        descriptive[columnName][\"Q1:25%\"]=dataset.describe()[columnName][\"25%\"]\n",
    "        descriptive[columnName][\"Q2:50%\"]=dataset.describe()[columnName][\"50%\"]\n",
    "        descriptive[columnName][\"Q3:75%\"]=dataset.describe()[columnName][\"75%\"]\n",
    "        descriptive[columnName][\"99%\"]=np.percentile(dataset[columnName],99)\n",
    "        descriptive[columnName][\"Q4:100%\"]=dataset.describe()[columnName][\"max\"]\n",
    "        descriptive[columnName][\"IQR\"]=descriptive[columnName][\"Q3:75%\"]-descriptive[columnName][\"Q1:25%\"]\n",
    "        descriptive[columnName][\"1.5Rule\"]=1.5*descriptive[columnName][\"IQR\"]\n",
    "        descriptive[columnName][\"Lesser\"]=descriptive[columnName][\"Q1:25%\"]-descriptive[columnName][\"1.5Rule\"]\n",
    "        descriptive[columnName][\"Greater\"]=descriptive[columnName][\"Q3:75%\"]+descriptive[columnName][\"1.5Rule\"]\n",
    "        descriptive[columnName][\"Min\"]=dataset[columnName].min()\n",
    "        descriptive[columnName][\"Max\"]=dataset[columnName].max()\n",
    "        descriptive[columnName][\"skew\"]=dataset[columnName].skew()\n",
    "        descriptive[columnName][\"kurtosis\"]=dataset[columnName].kurtosis()\n",
    "        descriptive[columnName][\"var\"]=dataset[columnName].var()\n",
    "        descriptive[columnName][\"std\"]=dataset[columnName].std()\n",
    "    return descriptive"
   ]
  },
  {
   "cell_type": "code",
   "execution_count": null,
   "id": "ec99b04a",
   "metadata": {},
   "outputs": [],
   "source": [
    "Univariate(dataset,quan)"
   ]
  },
  {
   "cell_type": "code",
   "execution_count": null,
   "id": "c114a6ad",
   "metadata": {},
   "outputs": [],
   "source": [
    "dataset[\"ssc_p\"].var()\n"
   ]
  },
  {
   "cell_type": "code",
   "execution_count": null,
   "id": "79edc5df",
   "metadata": {},
   "outputs": [],
   "source": [
    "dataset[\"ssc_p\"].std()\n"
   ]
  },
  {
   "cell_type": "code",
   "execution_count": null,
   "id": "05d43a71",
   "metadata": {},
   "outputs": [],
   "source": [
    "def Univariate(dataset,quan):\n",
    "    descriptive=pd.DataFrame(index=[\"Mean\",\"Mode\",\"Median\",\"Q1:25%\",\"Q2:50%\",\n",
    "                               \"Q3:75%\",\"99%\",\"Q4:100%\",\"IQR\",\"1.5Rule\",\"Lesser\",\"Greater\",\"Min\",\"Max\",\"skew\",\"kurtosis\"],columns=quan)\n",
    "    for columnName in quan:\n",
    "        descriptive[columnName][\"Mean\"]=dataset[columnName].mean()\n",
    "        descriptive[columnName][\"Median\"]=dataset[columnName].median()\n",
    "        descriptive[columnName][\"Mode\"]=dataset[columnName].mode()[0]\n",
    "        descriptive[columnName][\"Q1:25%\"]=dataset.describe()[columnName][\"25%\"]\n",
    "        descriptive[columnName][\"Q2:50%\"]=dataset.describe()[columnName][\"50%\"]\n",
    "        descriptive[columnName][\"Q3:75%\"]=dataset.describe()[columnName][\"75%\"]\n",
    "        descriptive[columnName][\"99%\"]=np.percentile(dataset[columnName],99)\n",
    "        descriptive[columnName][\"Q4:100%\"]=dataset.describe()[columnName][\"max\"]\n",
    "        descriptive[columnName][\"IQR\"]=descriptive[columnName][\"Q3:75%\"]-descriptive[columnName][\"Q1:25%\"]\n",
    "        descriptive[columnName][\"1.5Rule\"]=1.5*descriptive[columnName][\"IQR\"]\n",
    "        descriptive[columnName][\"Lesser\"]=descriptive[columnName][\"Q1:25%\"]-descriptive[columnName][\"1.5Rule\"]\n",
    "        descriptive[columnName][\"Greater\"]=descriptive[columnName][\"Q3:75%\"]+descriptive[columnName][\"1.5Rule\"]\n",
    "        descriptive[columnName][\"Min\"]=dataset[columnName].min()\n",
    "        descriptive[columnName][\"Max\"]=dataset[columnName].max()\n",
    "        descriptive[columnName][\"skew\"]=dataset[columnName].skew()\n",
    "        descriptive[columnName][\"kurtosis\"]=dataset[columnName].kurtosis()\n",
    "\n",
    "    return descriptive"
   ]
  },
  {
   "cell_type": "code",
   "execution_count": null,
   "id": "930470ea",
   "metadata": {},
   "outputs": [],
   "source": [
    "Univariate(dataset,quan)"
   ]
  },
  {
   "cell_type": "code",
   "execution_count": null,
   "id": "a5af2931",
   "metadata": {},
   "outputs": [],
   "source": [
    "def Univariate(dataset,quan):\n",
    "    descriptive=pd.DataFrame(index=[\"Mean\",\"Mode\",\"Median\",\"Q1:25%\",\"Q2:50%\",\n",
    "                               \"Q3:75%\",\"99%\",\"Q4:100%\",\"IQR\",\"1.5Rule\",\"Lesser\",\"Greater\",\"Min\",\"Max\",\"skew\",\"kurtosis\",\"var\",\"std\"],columns=quan)\n",
    "    for columnName in quan:\n",
    "        descriptive[columnName][\"Mean\"]=dataset[columnName].mean()\n",
    "        descriptive[columnName][\"Median\"]=dataset[columnName].median()\n",
    "        descriptive[columnName][\"Mode\"]=dataset[columnName].mode()[0]\n",
    "        descriptive[columnName][\"Q1:25%\"]=dataset.describe()[columnName][\"25%\"]\n",
    "        descriptive[columnName][\"Q2:50%\"]=dataset.describe()[columnName][\"50%\"]\n",
    "        descriptive[columnName][\"Q3:75%\"]=dataset.describe()[columnName][\"75%\"]\n",
    "        descriptive[columnName][\"99%\"]=np.percentile(dataset[columnName],99)\n",
    "        descriptive[columnName][\"Q4:100%\"]=dataset.describe()[columnName][\"max\"]\n",
    "        descriptive[columnName][\"IQR\"]=descriptive[columnName][\"Q3:75%\"]-descriptive[columnName][\"Q1:25%\"]\n",
    "        descriptive[columnName][\"1.5Rule\"]=1.5*descriptive[columnName][\"IQR\"]\n",
    "        descriptive[columnName][\"Lesser\"]=descriptive[columnName][\"Q1:25%\"]-descriptive[columnName][\"1.5Rule\"]\n",
    "        descriptive[columnName][\"Greater\"]=descriptive[columnName][\"Q3:75%\"]+descriptive[columnName][\"1.5Rule\"]\n",
    "        descriptive[columnName][\"Min\"]=dataset[columnName].min()\n",
    "        descriptive[columnName][\"Max\"]=dataset[columnName].max()\n",
    "        descriptive[columnName][\"skew\"]=dataset[columnName].skew()\n",
    "        descriptive[columnName][\"kurtosis\"]=dataset[columnName].kurtosis()\n",
    "        descriptive[columnName][\"var\"]=dataset[columnName].var()\n",
    "        descriptive[columnName][\"std\"]=dataset[columnName].std()\n",
    "    return descriptive"
   ]
  },
  {
   "cell_type": "code",
   "execution_count": null,
   "id": "55946466",
   "metadata": {},
   "outputs": [],
   "source": [
    "Univariate(dataset,quan)"
   ]
  }
 ],
 "metadata": {
  "kernelspec": {
   "display_name": "Python 3 (ipykernel)",
   "language": "python",
   "name": "python3"
  },
  "language_info": {
   "codemirror_mode": {
    "name": "ipython",
    "version": 3
   },
   "file_extension": ".py",
   "mimetype": "text/x-python",
   "name": "python",
   "nbconvert_exporter": "python",
   "pygments_lexer": "ipython3",
   "version": "3.7.1"
  }
 },
 "nbformat": 4,
 "nbformat_minor": 5
}
